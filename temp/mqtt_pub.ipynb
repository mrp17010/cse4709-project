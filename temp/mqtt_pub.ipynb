{
  "nbformat": 4,
  "nbformat_minor": 0,
  "metadata": {
    "colab": {
      "provenance": [],
      "authorship_tag": "ABX9TyM4RYegn/g/WTFKu/2Z4KzF",
      "include_colab_link": true
    },
    "kernelspec": {
      "name": "python3",
      "display_name": "Python 3"
    },
    "language_info": {
      "name": "python"
    }
  },
  "cells": [
    {
      "cell_type": "markdown",
      "metadata": {
        "id": "view-in-github",
        "colab_type": "text"
      },
      "source": [
        "<a href=\"https://colab.research.google.com/github/mrp17010/cse4709-project/blob/main/temp/mqtt_pub.ipynb\" target=\"_parent\"><img src=\"https://colab.research.google.com/assets/colab-badge.svg\" alt=\"Open In Colab\"/></a>"
      ]
    },
    {
      "cell_type": "code",
      "source": [
        "!pip install paho-mqtt"
      ],
      "metadata": {
        "colab": {
          "base_uri": "https://localhost:8080/"
        },
        "id": "PbkCN0cTR25o",
        "outputId": "c2da2d70-4b81-4471-920d-348f610cd1e1"
      },
      "execution_count": 2,
      "outputs": [
        {
          "output_type": "stream",
          "name": "stdout",
          "text": [
            "Collecting paho-mqtt\n",
            "  Downloading paho_mqtt-2.0.0-py3-none-any.whl (66 kB)\n",
            "\u001b[?25l     \u001b[90m━━━━━━━━━━━━━━━━━━━━━━━━━━━━━━━━━━━━━━━━\u001b[0m \u001b[32m0.0/66.9 kB\u001b[0m \u001b[31m?\u001b[0m eta \u001b[36m-:--:--\u001b[0m\r\u001b[2K     \u001b[91m━━━━━━━━━━━━━━━━━━━━━━━━━━━━━━━━━━━━\u001b[0m\u001b[91m╸\u001b[0m\u001b[90m━━━\u001b[0m \u001b[32m61.4/66.9 kB\u001b[0m \u001b[31m2.1 MB/s\u001b[0m eta \u001b[36m0:00:01\u001b[0m\r\u001b[2K     \u001b[90m━━━━━━━━━━━━━━━━━━━━━━━━━━━━━━━━━━━━━━━━\u001b[0m \u001b[32m66.9/66.9 kB\u001b[0m \u001b[31m1.5 MB/s\u001b[0m eta \u001b[36m0:00:00\u001b[0m\n",
            "\u001b[?25hInstalling collected packages: paho-mqtt\n",
            "Successfully installed paho-mqtt-2.0.0\n"
          ]
        }
      ]
    },
    {
      "cell_type": "code",
      "execution_count": 6,
      "metadata": {
        "colab": {
          "base_uri": "https://localhost:8080/",
          "height": 207
        },
        "id": "vmgb58QEN2_c",
        "outputId": "0c281b84-f8aa-4bc1-b0ef-3adf9b4b0b2e"
      },
      "outputs": [
        {
          "output_type": "error",
          "ename": "NameError",
          "evalue": "name 'mqtt' is not defined",
          "traceback": [
            "\u001b[0;31m---------------------------------------------------------------------------\u001b[0m",
            "\u001b[0;31mNameError\u001b[0m                                 Traceback (most recent call last)",
            "\u001b[0;32m<ipython-input-6-5611e05a9722>\u001b[0m in \u001b[0;36m<cell line: 4>\u001b[0;34m()\u001b[0m\n\u001b[1;32m      2\u001b[0m \u001b[0;32mimport\u001b[0m \u001b[0mpaho\u001b[0m\u001b[0;34m.\u001b[0m\u001b[0mmqtt\u001b[0m\u001b[0;34m.\u001b[0m\u001b[0mclient\u001b[0m \u001b[0;32mas\u001b[0m \u001b[0mpaho\u001b[0m\u001b[0;34m\u001b[0m\u001b[0;34m\u001b[0m\u001b[0m\n\u001b[1;32m      3\u001b[0m \u001b[0;34m\u001b[0m\u001b[0m\n\u001b[0;32m----> 4\u001b[0;31m \u001b[0mclient\u001b[0m \u001b[0;34m=\u001b[0m \u001b[0mpaho\u001b[0m\u001b[0;34m.\u001b[0m\u001b[0mClient\u001b[0m\u001b[0;34m(\u001b[0m\u001b[0mmqtt\u001b[0m\u001b[0;34m.\u001b[0m\u001b[0mCallbackAPIVersion\u001b[0m\u001b[0;34m.\u001b[0m\u001b[0mVERSION2\u001b[0m\u001b[0;34m)\u001b[0m\u001b[0;34m\u001b[0m\u001b[0;34m\u001b[0m\u001b[0m\n\u001b[0m\u001b[1;32m      5\u001b[0m \u001b[0;34m\u001b[0m\u001b[0m\n\u001b[1;32m      6\u001b[0m \u001b[0;32mif\u001b[0m \u001b[0mclient\u001b[0m\u001b[0;34m.\u001b[0m\u001b[0mconnect\u001b[0m\u001b[0;34m(\u001b[0m\u001b[0;34m\"localhost\"\u001b[0m\u001b[0;34m,\u001b[0m \u001b[0;36m1883\u001b[0m\u001b[0;34m,\u001b[0m \u001b[0;36m60\u001b[0m\u001b[0;34m)\u001b[0m \u001b[0;34m!=\u001b[0m \u001b[0;36m0\u001b[0m\u001b[0;34m:\u001b[0m\u001b[0;34m\u001b[0m\u001b[0;34m\u001b[0m\u001b[0m\n",
            "\u001b[0;31mNameError\u001b[0m: name 'mqtt' is not defined"
          ]
        }
      ],
      "source": [
        "import sys\n",
        "import paho.mqtt.client as paho\n",
        "\n",
        "client = paho.Client(mqtt.CallbackAPIVersion.VERSION2)\n",
        "\n",
        "if client.connect(\"localhost\", 1883, 60) != 0:\n",
        "    print(\"Couldn't connect to the MQTT broker\")\n",
        "    sys.exit(1)\n",
        "\n",
        "client.publish(\"test_topic\", \"Hi, Paho MQTT client works fine!\", 0)\n",
        "client.disconnect()"
      ]
    },
    {
      "cell_type": "code",
      "source": [
        "import paho.mqtt.client as mqtt\n",
        "\n",
        "def on_subscribe(client, userdata, mid, reason_code_list, properties):\n",
        "    # Since we subscribed only for a single channel, reason_code_list contains\n",
        "    # a single entry\n",
        "    if reason_code_list[0].is_failure:\n",
        "        print(f\"Broker rejected you subscription: {reason_code_list[0]}\")\n",
        "    else:\n",
        "        print(f\"Broker granted the following QoS: {reason_code_list[0].value}\")\n",
        "\n",
        "def on_unsubscribe(client, userdata, mid, reason_code_list, properties):\n",
        "    # Be careful, the reason_code_list is only present in MQTTv5.\n",
        "    # In MQTTv3 it will always be empty\n",
        "    if len(reason_code_list) == 0 or not reason_code_list[0].is_failure:\n",
        "        print(\"unsubscribe succeeded (if SUBACK is received in MQTTv3 it success)\")\n",
        "    else:\n",
        "        print(f\"Broker replied with failure: {reason_code_list[0]}\")\n",
        "    client.disconnect()\n",
        "\n",
        "def on_message(client, userdata, message):\n",
        "    # userdata is the structure we choose to provide, here it's a list()\n",
        "    userdata.append(message.payload)\n",
        "    # We only want to process 10 messages\n",
        "    if len(userdata) >= 10:\n",
        "        client.unsubscribe(\"$SYS/#\")\n",
        "\n",
        "def on_connect(client, userdata, flags, reason_code, properties):\n",
        "    if reason_code.is_failure:\n",
        "        print(f\"Failed to connect: {reason_code}. loop_forever() will retry connection\")\n",
        "    else:\n",
        "        # we should always subscribe from on_connect callback to be sure\n",
        "        # our subscribed is persisted across reconnections.\n",
        "        client.subscribe(\"$SYS/#\")\n",
        "\n",
        "mqttc = mqtt.Client(mqtt.CallbackAPIVersion.VERSION2)\n",
        "mqttc.on_connect = on_connect\n",
        "mqttc.on_message = on_message\n",
        "mqttc.on_subscribe = on_subscribe\n",
        "mqttc.on_unsubscribe = on_unsubscribe\n",
        "\n",
        "mqttc.user_data_set([])\n",
        "mqttc.connect(\"mqtt.eclipseprojects.io\")\n",
        "mqttc.loop_forever()\n",
        "print(f\"Received the following message: {mqttc.user_data_get()}\")"
      ],
      "metadata": {
        "colab": {
          "base_uri": "https://localhost:8080/"
        },
        "id": "_O_OxmuzhDzE",
        "outputId": "b8d3a47c-bbe1-4a76-f356-c979dc1a4069"
      },
      "execution_count": 10,
      "outputs": [
        {
          "output_type": "stream",
          "name": "stdout",
          "text": [
            "Broker granted the following QoS: 0\n",
            "unsubscribe succeeded (if SUBACK is received in MQTTv3 it success)\n",
            "Received the following message: [b'mosquitto version 2.0.18', b'3888 seconds', b'1750', b'-3', b'-3', b'1753', b'1753', b'2', b'1787', b'131715.07', b'136774.72', b'157407.08', b'519728.67', b'526285.14', b'605161.98', b'2.26', b'2435.85', b'83686.80', b'117844.85', b'123257.39', b'144114.11', b'504714.33', b'511620.99', b'590740.26', b'7542179.40', b'7789030.37', b'8924947.24', b'31713589.14', b'31763759.21', b'35956593.38', b'1452.51', b'1439.98', b'1395.60', b'1378.01', b'1366.29', b'1324.18', b'43459', b'13362024', b'56105169', b'43459', b'1352510', b'41589', b'0', b'43459', b'1038181744', b'1038229064', b'37706807', b'12444617', b'55115525', b'277412293', b'1486352363', b'834287578', b'3545505267', b'1', b'1', b'1', b'1', b'0', b'1', b'1', b'1', b'1', b'1', b'1', b'1', b'1', b'1']\n"
          ]
        }
      ]
    },
    {
      "cell_type": "code",
      "source": [
        "import time\n",
        "import paho.mqtt.client as mqtt\n",
        "\n",
        "def on_publish(client, userdata, mid, reason_code, properties):\n",
        "    # reason_code and properties will only be present in MQTTv5. It's always unset in MQTTv3\n",
        "    try:\n",
        "        userdata.remove(mid)\n",
        "    except KeyError:\n",
        "        print(\"on_publish() is called with a mid not present in unacked_publish\")\n",
        "        print(\"This is due to an unavoidable race-condition:\")\n",
        "        print(\"* publish() return the mid of the message sent.\")\n",
        "        print(\"* mid from publish() is added to unacked_publish by the main thread\")\n",
        "        print(\"* on_publish() is called by the loop_start thread\")\n",
        "        print(\"While unlikely (because on_publish() will be called after a network round-trip),\")\n",
        "        print(\" this is a race-condition that COULD happen\")\n",
        "        print(\"\")\n",
        "        print(\"The best solution to avoid race-condition is using the msg_info from publish()\")\n",
        "        print(\"We could also try using a list of acknowledged mid rather than removing from pending list,\")\n",
        "        print(\"but remember that mid could be re-used !\")\n",
        "\n",
        "unacked_publish = set()\n",
        "mqttc = mqtt.Client(mqtt.CallbackAPIVersion.VERSION2)\n",
        "mqttc.on_publish = on_publish\n",
        "\n",
        "mqttc.user_data_set(unacked_publish)\n",
        "mqttc.connect(\"mqtt.eclipseprojects.io\")\n",
        "mqttc.loop_start()\n",
        "\n",
        "# Our application produce some messages\n",
        "msg_info = mqttc.publish(\"paho/test/topic\", \"my message\", qos=1)\n",
        "unacked_publish.add(msg_info.mid)\n",
        "\n",
        "msg_info2 = mqttc.publish(\"paho/test/topic\", \"my message2\", qos=1)\n",
        "unacked_publish.add(msg_info2.mid)\n",
        "\n",
        "# Wait for all message to be published\n",
        "while len(unacked_publish):\n",
        "    time.sleep(0.1)\n",
        "\n",
        "# Due to race-condition described above, the following way to wait for all publish is safer\n",
        "msg_info.wait_for_publish()\n",
        "msg_info2.wait_for_publish()\n",
        "\n",
        "mqttc.disconnect()\n",
        "mqttc.loop_stop()"
      ],
      "metadata": {
        "colab": {
          "base_uri": "https://localhost:8080/"
        },
        "id": "wDiaOZSDhVQw",
        "outputId": "27e67597-1715-41c9-fa14-02dfad82a1f8"
      },
      "execution_count": 9,
      "outputs": [
        {
          "output_type": "execute_result",
          "data": {
            "text/plain": [
              "<MQTTErrorCode.MQTT_ERR_SUCCESS: 0>"
            ]
          },
          "metadata": {},
          "execution_count": 9
        }
      ]
    },
    {
      "cell_type": "code",
      "source": [
        "import paho.mqtt.publish as publish\n",
        "\n",
        "# Publish a single message to a broker\n",
        "publish.single(\"paho/test/topic\", \"payload\", hostname=\"mqtt.eclipseprojects.io\")\n"
      ],
      "metadata": {
        "id": "oouRGL7CiM7q"
      },
      "execution_count": 11,
      "outputs": []
    }
  ]
}