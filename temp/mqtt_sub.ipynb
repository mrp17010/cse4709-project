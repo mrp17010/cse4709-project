{
  "nbformat": 4,
  "nbformat_minor": 0,
  "metadata": {
    "colab": {
      "provenance": [],
      "authorship_tag": "ABX9TyMM+IDdZjh9UFDM7hm9esjZ",
      "include_colab_link": true
    },
    "kernelspec": {
      "name": "python3",
      "display_name": "Python 3"
    },
    "language_info": {
      "name": "python"
    }
  },
  "cells": [
    {
      "cell_type": "markdown",
      "metadata": {
        "id": "view-in-github",
        "colab_type": "text"
      },
      "source": [
        "<a href=\"https://colab.research.google.com/github/mrp17010/cse4709-project/blob/main/temp/mqtt_sub.ipynb\" target=\"_parent\"><img src=\"https://colab.research.google.com/assets/colab-badge.svg\" alt=\"Open In Colab\"/></a>"
      ]
    },
    {
      "cell_type": "code",
      "source": [
        "!pip install paho-mqtt"
      ],
      "metadata": {
        "colab": {
          "base_uri": "https://localhost:8080/"
        },
        "id": "kayuXTqwfQ6a",
        "outputId": "ca029a47-de97-4933-b4ad-36bed5d0cff9"
      },
      "execution_count": 3,
      "outputs": [
        {
          "output_type": "stream",
          "name": "stdout",
          "text": [
            "Collecting paho-mqtt\n",
            "  Downloading paho_mqtt-2.0.0-py3-none-any.whl (66 kB)\n",
            "\u001b[?25l     \u001b[90m━━━━━━━━━━━━━━━━━━━━━━━━━━━━━━━━━━━━━━━━\u001b[0m \u001b[32m0.0/66.9 kB\u001b[0m \u001b[31m?\u001b[0m eta \u001b[36m-:--:--\u001b[0m\r\u001b[2K     \u001b[90m━━━━━━━━━━━━━━━━━━━━━━━━━━━━━━━━━━━━━━━━\u001b[0m \u001b[32m66.9/66.9 kB\u001b[0m \u001b[31m2.5 MB/s\u001b[0m eta \u001b[36m0:00:00\u001b[0m\n",
            "\u001b[?25hInstalling collected packages: paho-mqtt\n",
            "Successfully installed paho-mqtt-2.0.0\n"
          ]
        }
      ]
    },
    {
      "cell_type": "code",
      "execution_count": 5,
      "metadata": {
        "colab": {
          "base_uri": "https://localhost:8080/",
          "height": 1000
        },
        "id": "ScWlX3NbOijh",
        "outputId": "8c76d8da-cb94-447b-c8b0-720085375da9"
      },
      "outputs": [
        {
          "output_type": "stream",
          "name": "stdout",
          "text": [
            "Connected with result code Success\n",
            "$SYS/broker/version b'mosquitto version 2.0.18'\n",
            "$SYS/broker/uptime b'3866 seconds'\n",
            "$SYS/broker/clients/total b'1744'\n",
            "$SYS/broker/clients/inactive b'-7'\n",
            "$SYS/broker/clients/disconnected b'-7'\n",
            "$SYS/broker/clients/active b'1751'\n",
            "$SYS/broker/clients/connected b'1751'\n",
            "$SYS/broker/clients/expired b'2'\n",
            "$SYS/broker/clients/maximum b'1787'\n",
            "$SYS/broker/load/messages/received/1min b'132374.14'\n",
            "$SYS/broker/load/messages/received/5min b'137275.73'\n",
            "$SYS/broker/load/messages/received/15min b'158080.74'\n",
            "$SYS/broker/load/messages/sent/1min b'523809.94'\n",
            "$SYS/broker/load/messages/sent/5min b'527506.13'\n",
            "$SYS/broker/load/messages/sent/15min b'607512.08'\n",
            "$SYS/broker/load/publish/dropped/1min b'3.26'\n",
            "$SYS/broker/load/publish/dropped/5min b'2621.19'\n",
            "$SYS/broker/load/publish/dropped/15min b'85757.68'\n",
            "$SYS/broker/load/publish/received/1min b'118832.72'\n",
            "$SYS/broker/load/publish/received/5min b'123843.41'\n",
            "$SYS/broker/load/publish/received/15min b'144821.05'\n",
            "$SYS/broker/load/publish/sent/1min b'509086.81'\n",
            "$SYS/broker/load/publish/sent/5min b'512919.59'\n",
            "$SYS/broker/load/publish/sent/15min b'593121.65'\n",
            "$SYS/broker/load/bytes/received/1min b'7643874.95'\n",
            "$SYS/broker/load/bytes/received/5min b'7825892.07'\n",
            "$SYS/broker/load/bytes/received/15min b'8965077.48'\n",
            "$SYS/broker/load/bytes/sent/1min b'32198750.97'\n",
            "$SYS/broker/load/bytes/sent/5min b'31853758.02'\n",
            "$SYS/broker/load/bytes/sent/15min b'36089771.33'\n",
            "$SYS/broker/load/sockets/1min b'1450.81'\n",
            "$SYS/broker/load/sockets/5min b'1438.57'\n",
            "$SYS/broker/load/sockets/15min b'1394.04'\n",
            "$SYS/broker/load/connections/1min b'1378.68'\n",
            "$SYS/broker/load/connections/5min b'1365.30'\n",
            "$SYS/broker/load/connections/15min b'1322.80'\n",
            "$SYS/broker/messages/stored b'43457'\n",
            "$SYS/broker/messages/received b'13314291'\n",
            "$SYS/broker/messages/sent b'55917909'\n",
            "$SYS/broker/store/messages/count b'43457'\n",
            "$SYS/broker/store/messages/bytes b'1352490'\n",
            "$SYS/broker/subscriptions/count b'41438'\n",
            "$SYS/broker/shared_subscriptions/count b'0'\n",
            "$SYS/broker/retained messages/count b'43457'\n",
            "$SYS/broker/heap/current b'1038092824'\n",
            "$SYS/broker/heap/maximum b'1038209856'\n",
            "$SYS/broker/publish/messages/dropped b'37706807'\n",
            "$SYS/broker/publish/messages/received b'12402252'\n",
            "$SYS/broker/publish/messages/sent b'54934005'\n",
            "$SYS/broker/publish/bytes/received b'276609653'\n",
            "$SYS/broker/publish/bytes/sent b'1482792433'\n",
            "$SYS/broker/bytes/received b'831609969'\n",
            "$SYS/broker/bytes/sent b'3534285481'\n",
            "$SYS/broker/connection/ks4.ral.me.eclipse/state b'1'\n",
            "$SYS/broker/connection/DESKTOP-NBFRSTO.NSI_Bridge/state b'1'\n",
            "$SYS/broker/connection/233ca3e444ac.eclipseprojects/state b'1'\n",
            "$SYS/broker/connection/OpenWrtN600.eclipseprojects.io/state b'1'\n",
            "$SYS/broker/connection/GP-reh.bridge/state b'0'\n",
            "$SYS/broker/connection/Marco-Medrano.conn-broker1/state b'1'\n",
            "$SYS/broker/connection/ursolandia/state b'1'\n",
            "$SYS/broker/connection/Weewx.bridge-to-eclipse/state b'1'\n",
            "$SYS/broker/connection/raspberrypi.bridge-to-eclipse/state b'1'\n",
            "$SYS/broker/connection/weewx-raspi5.bridge-to-eclipse/state b'1'\n",
            "$SYS/broker/connection/openhabian.eclipseprojects/state b'1'\n",
            "$SYS/broker/connection/raspberrypiwll.bridge-to-eclipse/state b'1'\n",
            "$SYS/broker/connection/bananapim2plus.bridge-to-eclipse/state b'1'\n",
            "$SYS/broker/connection/hab.bridge-to-eclipse/state b'1'\n"
          ]
        },
        {
          "output_type": "error",
          "ename": "KeyboardInterrupt",
          "evalue": "",
          "traceback": [
            "\u001b[0;31m---------------------------------------------------------------------------\u001b[0m",
            "\u001b[0;31mKeyboardInterrupt\u001b[0m                         Traceback (most recent call last)",
            "\u001b[0;32m<ipython-input-5-7a93d3c61fd6>\u001b[0m in \u001b[0;36m<cell line: 24>\u001b[0;34m()\u001b[0m\n\u001b[1;32m     22\u001b[0m \u001b[0;31m# Other loop*() functions are available that give a threaded interface and a\u001b[0m\u001b[0;34m\u001b[0m\u001b[0;34m\u001b[0m\u001b[0m\n\u001b[1;32m     23\u001b[0m \u001b[0;31m# manual interface.\u001b[0m\u001b[0;34m\u001b[0m\u001b[0;34m\u001b[0m\u001b[0m\n\u001b[0;32m---> 24\u001b[0;31m \u001b[0mmqttc\u001b[0m\u001b[0;34m.\u001b[0m\u001b[0mloop_forever\u001b[0m\u001b[0;34m(\u001b[0m\u001b[0;34m)\u001b[0m\u001b[0;34m\u001b[0m\u001b[0;34m\u001b[0m\u001b[0m\n\u001b[0m",
            "\u001b[0;32m/usr/local/lib/python3.10/dist-packages/paho/mqtt/client.py\u001b[0m in \u001b[0;36mloop_forever\u001b[0;34m(self, timeout, retry_first_connection)\u001b[0m\n\u001b[1;32m   2289\u001b[0m             \u001b[0mrc\u001b[0m \u001b[0;34m=\u001b[0m \u001b[0mMQTTErrorCode\u001b[0m\u001b[0;34m.\u001b[0m\u001b[0mMQTT_ERR_SUCCESS\u001b[0m\u001b[0;34m\u001b[0m\u001b[0;34m\u001b[0m\u001b[0m\n\u001b[1;32m   2290\u001b[0m             \u001b[0;32mwhile\u001b[0m \u001b[0mrc\u001b[0m \u001b[0;34m==\u001b[0m \u001b[0mMQTTErrorCode\u001b[0m\u001b[0;34m.\u001b[0m\u001b[0mMQTT_ERR_SUCCESS\u001b[0m\u001b[0;34m:\u001b[0m\u001b[0;34m\u001b[0m\u001b[0;34m\u001b[0m\u001b[0m\n\u001b[0;32m-> 2291\u001b[0;31m                 \u001b[0mrc\u001b[0m \u001b[0;34m=\u001b[0m \u001b[0mself\u001b[0m\u001b[0;34m.\u001b[0m\u001b[0m_loop\u001b[0m\u001b[0;34m(\u001b[0m\u001b[0mtimeout\u001b[0m\u001b[0;34m)\u001b[0m\u001b[0;34m\u001b[0m\u001b[0;34m\u001b[0m\u001b[0m\n\u001b[0m\u001b[1;32m   2292\u001b[0m                 \u001b[0;31m# We don't need to worry about locking here, because we've\u001b[0m\u001b[0;34m\u001b[0m\u001b[0;34m\u001b[0m\u001b[0m\n\u001b[1;32m   2293\u001b[0m                 \u001b[0;31m# either called loop_forever() when in single threaded mode, or\u001b[0m\u001b[0;34m\u001b[0m\u001b[0;34m\u001b[0m\u001b[0m\n",
            "\u001b[0;32m/usr/local/lib/python3.10/dist-packages/paho/mqtt/client.py\u001b[0m in \u001b[0;36m_loop\u001b[0;34m(self, timeout)\u001b[0m\n\u001b[1;32m   1655\u001b[0m \u001b[0;34m\u001b[0m\u001b[0m\n\u001b[1;32m   1656\u001b[0m         \u001b[0;32mtry\u001b[0m\u001b[0;34m:\u001b[0m\u001b[0;34m\u001b[0m\u001b[0;34m\u001b[0m\u001b[0m\n\u001b[0;32m-> 1657\u001b[0;31m             \u001b[0msocklist\u001b[0m \u001b[0;34m=\u001b[0m \u001b[0mselect\u001b[0m\u001b[0;34m.\u001b[0m\u001b[0mselect\u001b[0m\u001b[0;34m(\u001b[0m\u001b[0mrlist\u001b[0m\u001b[0;34m,\u001b[0m \u001b[0mwlist\u001b[0m\u001b[0;34m,\u001b[0m \u001b[0;34m[\u001b[0m\u001b[0;34m]\u001b[0m\u001b[0;34m,\u001b[0m \u001b[0mtimeout\u001b[0m\u001b[0;34m)\u001b[0m\u001b[0;34m\u001b[0m\u001b[0;34m\u001b[0m\u001b[0m\n\u001b[0m\u001b[1;32m   1658\u001b[0m         \u001b[0;32mexcept\u001b[0m \u001b[0mTypeError\u001b[0m\u001b[0;34m:\u001b[0m\u001b[0;34m\u001b[0m\u001b[0;34m\u001b[0m\u001b[0m\n\u001b[1;32m   1659\u001b[0m             \u001b[0;31m# Socket isn't correct type, in likelihood connection is lost\u001b[0m\u001b[0;34m\u001b[0m\u001b[0;34m\u001b[0m\u001b[0m\n",
            "\u001b[0;31mKeyboardInterrupt\u001b[0m: "
          ]
        }
      ],
      "source": [
        "import paho.mqtt.client as mqtt\n",
        "\n",
        "# The callback for when the client receives a CONNACK response from the server.\n",
        "def on_connect(client, userdata, flags, reason_code, properties):\n",
        "    print(f\"Connected with result code {reason_code}\")\n",
        "    # Subscribing in on_connect() means that if we lose the connection and\n",
        "    # reconnect then subscriptions will be renewed.\n",
        "    client.subscribe(\"$SYS/#\")\n",
        "\n",
        "# The callback for when a PUBLISH message is received from the server.\n",
        "def on_message(client, userdata, msg):\n",
        "    print(msg.topic+\" \"+str(msg.payload))\n",
        "\n",
        "mqttc = mqtt.Client(mqtt.CallbackAPIVersion.VERSION2)\n",
        "mqttc.on_connect = on_connect\n",
        "mqttc.on_message = on_message\n",
        "\n",
        "mqttc.connect(\"mqtt.eclipseprojects.io\", 1883, 60)\n",
        "\n",
        "# Blocking call that processes network traffic, dispatches callbacks and\n",
        "# handles reconnecting.\n",
        "# Other loop*() functions are available that give a threaded interface and a\n",
        "# manual interface.\n",
        "mqttc.loop_forever()"
      ]
    }
  ]
}